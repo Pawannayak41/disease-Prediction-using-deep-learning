{
  "nbformat": 4,
  "nbformat_minor": 0,
  "metadata": {
    "colab": {
      "provenance": []
    },
    "kernelspec": {
      "name": "python3",
      "display_name": "Python 3"
    },
    "language_info": {
      "name": "python"
    },
    "accelerator": "GPU",
    "gpuClass": "standard"
  },
  "cells": [
    {
      "cell_type": "code",
      "source": [
        "from google.colab import drive\n",
        "drive.mount('/content/drive')"
      ],
      "metadata": {
        "colab": {
          "base_uri": "https://localhost:8080/"
        },
        "id": "b10DaXPJtq-V",
        "outputId": "c855cbe5-6d61-4eb4-e9dd-605d216093e3"
      },
      "execution_count": 4,
      "outputs": [
        {
          "output_type": "stream",
          "name": "stdout",
          "text": [
            "Drive already mounted at /content/drive; to attempt to forcibly remount, call drive.mount(\"/content/drive\", force_remount=True).\n"
          ]
        }
      ]
    },
    {
      "cell_type": "code",
      "source": [
        "from keras.layers import Input, Lambda, Dense, Flatten\n",
        "from keras.models import Model\n",
        "#from keras.applications.vgg16 import VGG16\n",
        "from keras.applications.vgg19 import VGG19\n",
        "from keras.utils.np_utils import to_categorical\n",
        "from keras.applications.vgg16 import preprocess_input\n",
        "from keras.preprocessing import image\n",
        "from keras.preprocessing.image import ImageDataGenerator\n",
        "from keras.models import Sequential\n",
        "import numpy as np\n",
        "from glob import glob\n",
        "import matplotlib.pyplot as plt"
      ],
      "metadata": {
        "id": "sTw2DAshu-2T"
      },
      "execution_count": 5,
      "outputs": []
    },
    {
      "cell_type": "code",
      "source": [
        "#pip install split-folders"
      ],
      "metadata": {
        "id": "Crv9Gtk00Vtf"
      },
      "execution_count": 6,
      "outputs": []
    },
    {
      "cell_type": "code",
      "source": [
        "#import splitfolders"
      ],
      "metadata": {
        "id": "WHMCZ1pO2QTK"
      },
      "execution_count": 7,
      "outputs": []
    },
    {
      "cell_type": "code",
      "source": [
        "#input_folder='/content/drive/MyDrive/Colab Notebooks/TB_Dataset'"
      ],
      "metadata": {
        "id": "ZySfruIS2YUT"
      },
      "execution_count": 8,
      "outputs": []
    },
    {
      "cell_type": "code",
      "source": [
        "#splitfolders.ratio(input_folder, output=\"/content/drive/MyDrive/Colab Notebooks/TB_Dataset12\", seed=42, ratio=(.7,.2,.1), group_prefix=None)"
      ],
      "metadata": {
        "id": "NrtgbGjr2mQn"
      },
      "execution_count": 9,
      "outputs": []
    },
    {
      "cell_type": "code",
      "source": [
        "# re-size all the images to this\n",
        "IMAGE_SIZE = [224, 224]"
      ],
      "metadata": {
        "id": "WkoVAgAux2wW"
      },
      "execution_count": 10,
      "outputs": []
    },
    {
      "cell_type": "code",
      "source": [
        "# Training Data and Testing Data\n",
        "\n",
        "train_path = '/content/drive/MyDrive/TB_Dataset/train'\n",
        "valid_path = '/content/drive/MyDrive/TB_Dataset/test'"
      ],
      "metadata": {
        "id": "Yf92etRGyAGL"
      },
      "execution_count": 11,
      "outputs": []
    },
    {
      "cell_type": "code",
      "source": [
        "# add preprocessing layer to the front of VGG\n",
        "# Here we will be using ImageNet weights, In this we are cutting First and last layer\n",
        "# using include_top= False to create two class Parasited and Normal.\n",
        "\n",
        "vgg = VGG19(input_shape=IMAGE_SIZE + [3], weights='imagenet', include_top=False)"
      ],
      "metadata": {
        "id": "zkLb_BVF5wHc",
        "colab": {
          "base_uri": "https://localhost:8080/"
        },
        "outputId": "5180a4f1-351b-458c-a97b-aa12808997f0"
      },
      "execution_count": 12,
      "outputs": [
        {
          "output_type": "stream",
          "name": "stdout",
          "text": [
            "Downloading data from https://storage.googleapis.com/tensorflow/keras-applications/vgg19/vgg19_weights_tf_dim_ordering_tf_kernels_notop.h5\n",
            "80134624/80134624 [==============================] - 4s 0us/step\n"
          ]
        }
      ]
    },
    {
      "cell_type": "code",
      "source": [
        "vgg.summary()"
      ],
      "metadata": {
        "colab": {
          "base_uri": "https://localhost:8080/"
        },
        "id": "4TJdWkW7KxYH",
        "outputId": "100b2114-21e4-4962-8961-3e142c345b93"
      },
      "execution_count": 13,
      "outputs": [
        {
          "output_type": "stream",
          "name": "stdout",
          "text": [
            "Model: \"vgg19\"\n",
            "_________________________________________________________________\n",
            " Layer (type)                Output Shape              Param #   \n",
            "=================================================================\n",
            " input_1 (InputLayer)        [(None, 224, 224, 3)]     0         \n",
            "                                                                 \n",
            " block1_conv1 (Conv2D)       (None, 224, 224, 64)      1792      \n",
            "                                                                 \n",
            " block1_conv2 (Conv2D)       (None, 224, 224, 64)      36928     \n",
            "                                                                 \n",
            " block1_pool (MaxPooling2D)  (None, 112, 112, 64)      0         \n",
            "                                                                 \n",
            " block2_conv1 (Conv2D)       (None, 112, 112, 128)     73856     \n",
            "                                                                 \n",
            " block2_conv2 (Conv2D)       (None, 112, 112, 128)     147584    \n",
            "                                                                 \n",
            " block2_pool (MaxPooling2D)  (None, 56, 56, 128)       0         \n",
            "                                                                 \n",
            " block3_conv1 (Conv2D)       (None, 56, 56, 256)       295168    \n",
            "                                                                 \n",
            " block3_conv2 (Conv2D)       (None, 56, 56, 256)       590080    \n",
            "                                                                 \n",
            " block3_conv3 (Conv2D)       (None, 56, 56, 256)       590080    \n",
            "                                                                 \n",
            " block3_conv4 (Conv2D)       (None, 56, 56, 256)       590080    \n",
            "                                                                 \n",
            " block3_pool (MaxPooling2D)  (None, 28, 28, 256)       0         \n",
            "                                                                 \n",
            " block4_conv1 (Conv2D)       (None, 28, 28, 512)       1180160   \n",
            "                                                                 \n",
            " block4_conv2 (Conv2D)       (None, 28, 28, 512)       2359808   \n",
            "                                                                 \n",
            " block4_conv3 (Conv2D)       (None, 28, 28, 512)       2359808   \n",
            "                                                                 \n",
            " block4_conv4 (Conv2D)       (None, 28, 28, 512)       2359808   \n",
            "                                                                 \n",
            " block4_pool (MaxPooling2D)  (None, 14, 14, 512)       0         \n",
            "                                                                 \n",
            " block5_conv1 (Conv2D)       (None, 14, 14, 512)       2359808   \n",
            "                                                                 \n",
            " block5_conv2 (Conv2D)       (None, 14, 14, 512)       2359808   \n",
            "                                                                 \n",
            " block5_conv3 (Conv2D)       (None, 14, 14, 512)       2359808   \n",
            "                                                                 \n",
            " block5_conv4 (Conv2D)       (None, 14, 14, 512)       2359808   \n",
            "                                                                 \n",
            " block5_pool (MaxPooling2D)  (None, 7, 7, 512)         0         \n",
            "                                                                 \n",
            "=================================================================\n",
            "Total params: 20,024,384\n",
            "Trainable params: 20,024,384\n",
            "Non-trainable params: 0\n",
            "_________________________________________________________________\n"
          ]
        }
      ]
    },
    {
      "cell_type": "code",
      "source": [
        "# don't train existing weights\n",
        "\n",
        "for layer in vgg.layers:\n",
        "  layer.trainable = False"
      ],
      "metadata": {
        "id": "u9jBKctT51yc"
      },
      "execution_count": 14,
      "outputs": []
    },
    {
      "cell_type": "code",
      "source": [
        "  # useful for getting number of classes\n",
        "  # The output classes will be equal to no. of sub folders i.e. Parasited and Normal\n",
        "  \n",
        "folders = glob('/content/drive/MyDrive/TB_Dataset/train/*')\n",
        "  "
      ],
      "metadata": {
        "id": "QaZk5a6j5-lS"
      },
      "execution_count": 15,
      "outputs": []
    },
    {
      "cell_type": "code",
      "source": [
        "# We got classes Nomal and Tuberculosis\n",
        "folders"
      ],
      "metadata": {
        "colab": {
          "base_uri": "https://localhost:8080/"
        },
        "id": "u-Kuwe7ANLEa",
        "outputId": "06ab482e-8390-4c2c-a9dc-01afec1a76e7"
      },
      "execution_count": 16,
      "outputs": [
        {
          "output_type": "execute_result",
          "data": {
            "text/plain": [
              "['/content/drive/MyDrive/TB_Dataset/train/Normal',\n",
              " '/content/drive/MyDrive/TB_Dataset/train/Tuberculosis']"
            ]
          },
          "metadata": {},
          "execution_count": 16
        }
      ]
    },
    {
      "cell_type": "code",
      "source": [
        "# our layers - you can add more if you want\n",
        "# We flatten Layers except Last Layer\n",
        "x = Flatten()(vgg.output)\n",
        "# x = Dense(1000, activation='relu')(x)\n"
      ],
      "metadata": {
        "id": "kqsdjk-R6DUI"
      },
      "execution_count": 17,
      "outputs": []
    },
    {
      "cell_type": "code",
      "source": [
        "prediction = Dense(len(folders), activation='softmax')(x)\n",
        "# create a model object\n",
        "model = Model(inputs=vgg.input, outputs=prediction)"
      ],
      "metadata": {
        "id": "TzvPQSNG6Gpq"
      },
      "execution_count": 18,
      "outputs": []
    },
    {
      "cell_type": "code",
      "source": [
        "\n",
        "# view the structure of the model\n",
        "# You will be able to see the output layers as 3 and Dense layer added\n",
        "model.summary()"
      ],
      "metadata": {
        "colab": {
          "base_uri": "https://localhost:8080/"
        },
        "id": "ItWmPe7G6VSI",
        "outputId": "0613bb34-ac7e-48d2-c156-03487d9fc935"
      },
      "execution_count": 19,
      "outputs": [
        {
          "output_type": "stream",
          "name": "stdout",
          "text": [
            "Model: \"model\"\n",
            "_________________________________________________________________\n",
            " Layer (type)                Output Shape              Param #   \n",
            "=================================================================\n",
            " input_1 (InputLayer)        [(None, 224, 224, 3)]     0         \n",
            "                                                                 \n",
            " block1_conv1 (Conv2D)       (None, 224, 224, 64)      1792      \n",
            "                                                                 \n",
            " block1_conv2 (Conv2D)       (None, 224, 224, 64)      36928     \n",
            "                                                                 \n",
            " block1_pool (MaxPooling2D)  (None, 112, 112, 64)      0         \n",
            "                                                                 \n",
            " block2_conv1 (Conv2D)       (None, 112, 112, 128)     73856     \n",
            "                                                                 \n",
            " block2_conv2 (Conv2D)       (None, 112, 112, 128)     147584    \n",
            "                                                                 \n",
            " block2_pool (MaxPooling2D)  (None, 56, 56, 128)       0         \n",
            "                                                                 \n",
            " block3_conv1 (Conv2D)       (None, 56, 56, 256)       295168    \n",
            "                                                                 \n",
            " block3_conv2 (Conv2D)       (None, 56, 56, 256)       590080    \n",
            "                                                                 \n",
            " block3_conv3 (Conv2D)       (None, 56, 56, 256)       590080    \n",
            "                                                                 \n",
            " block3_conv4 (Conv2D)       (None, 56, 56, 256)       590080    \n",
            "                                                                 \n",
            " block3_pool (MaxPooling2D)  (None, 28, 28, 256)       0         \n",
            "                                                                 \n",
            " block4_conv1 (Conv2D)       (None, 28, 28, 512)       1180160   \n",
            "                                                                 \n",
            " block4_conv2 (Conv2D)       (None, 28, 28, 512)       2359808   \n",
            "                                                                 \n",
            " block4_conv3 (Conv2D)       (None, 28, 28, 512)       2359808   \n",
            "                                                                 \n",
            " block4_conv4 (Conv2D)       (None, 28, 28, 512)       2359808   \n",
            "                                                                 \n",
            " block4_pool (MaxPooling2D)  (None, 14, 14, 512)       0         \n",
            "                                                                 \n",
            " block5_conv1 (Conv2D)       (None, 14, 14, 512)       2359808   \n",
            "                                                                 \n",
            " block5_conv2 (Conv2D)       (None, 14, 14, 512)       2359808   \n",
            "                                                                 \n",
            " block5_conv3 (Conv2D)       (None, 14, 14, 512)       2359808   \n",
            "                                                                 \n",
            " block5_conv4 (Conv2D)       (None, 14, 14, 512)       2359808   \n",
            "                                                                 \n",
            " block5_pool (MaxPooling2D)  (None, 7, 7, 512)         0         \n",
            "                                                                 \n",
            " flatten (Flatten)           (None, 25088)             0         \n",
            "                                                                 \n",
            " dense (Dense)               (None, 2)                 50178     \n",
            "                                                                 \n",
            "=================================================================\n",
            "Total params: 20,074,562\n",
            "Trainable params: 50,178\n",
            "Non-trainable params: 20,024,384\n",
            "_________________________________________________________________\n"
          ]
        }
      ]
    },
    {
      "cell_type": "code",
      "source": [
        "# tell the model what cost and optimization method to use\n",
        "model.compile(\n",
        "  loss='categorical_crossentropy',\n",
        "  optimizer='adam',\n",
        "  metrics=['accuracy']\n",
        ")\n"
      ],
      "metadata": {
        "id": "IHnTt90E6WZD"
      },
      "execution_count": 20,
      "outputs": []
    },
    {
      "cell_type": "code",
      "source": [
        "# Use the Image Data Generator to import the images from the dataset\n",
        "from keras.preprocessing.image import ImageDataGenerator"
      ],
      "metadata": {
        "id": "fv4c3T1J6XBK"
      },
      "execution_count": 21,
      "outputs": []
    },
    {
      "cell_type": "code",
      "source": [
        "train_datagen = ImageDataGenerator(rescale = 1./255,\n",
        "                                   shear_range = 0.2,\n",
        "                                   zoom_range = 0.2,\n",
        "                                   horizontal_flip = True)\n"
      ],
      "metadata": {
        "id": "k1iC09yI6rLM"
      },
      "execution_count": 22,
      "outputs": []
    },
    {
      "cell_type": "code",
      "source": [
        "test_datagen = ImageDataGenerator(rescale = 1./255)"
      ],
      "metadata": {
        "id": "5iICmvNG6sSr"
      },
      "execution_count": 23,
      "outputs": []
    },
    {
      "cell_type": "code",
      "source": [
        "# Make sure you provide the same target size as initialised for the image\n",
        "\n",
        "training_set = train_datagen.flow_from_directory('/content/drive/MyDrive/TB_Dataset/train',\n",
        "                                                 target_size = (224, 224),\n",
        "                                                 batch_size = 32,\n",
        "                                                 class_mode = 'categorical')\n",
        "\n",
        "\n"
      ],
      "metadata": {
        "colab": {
          "base_uri": "https://localhost:8080/"
        },
        "id": "cTUnsX2w6sXA",
        "outputId": "fb168e4d-8b20-47c9-8aa5-1a8a39475329"
      },
      "execution_count": 24,
      "outputs": [
        {
          "output_type": "stream",
          "name": "stdout",
          "text": [
            "Found 2937 images belonging to 2 classes.\n"
          ]
        }
      ]
    },
    {
      "cell_type": "code",
      "source": [
        "training_set"
      ],
      "metadata": {
        "colab": {
          "base_uri": "https://localhost:8080/"
        },
        "id": "CQtgq_vdEs4F",
        "outputId": "be80e3fc-4796-4faf-8b61-b4b8a4ede578"
      },
      "execution_count": 25,
      "outputs": [
        {
          "output_type": "execute_result",
          "data": {
            "text/plain": [
              "<keras.preprocessing.image.DirectoryIterator at 0x7f87b41163d0>"
            ]
          },
          "metadata": {},
          "execution_count": 25
        }
      ]
    },
    {
      "cell_type": "code",
      "source": [
        "test_set = test_datagen.flow_from_directory('/content/drive/MyDrive/TB_Dataset/test',\n",
        "                                            target_size = (224, 224),\n",
        "                                            batch_size = 32,\n",
        "                                            class_mode = 'categorical')"
      ],
      "metadata": {
        "colab": {
          "base_uri": "https://localhost:8080/"
        },
        "id": "ZxJ_hqKBEtOu",
        "outputId": "3d4b952e-3c76-4d8e-9cd4-70e10998acc5"
      },
      "execution_count": 26,
      "outputs": [
        {
          "output_type": "stream",
          "name": "stdout",
          "text": [
            "Found 421 images belonging to 2 classes.\n"
          ]
        }
      ]
    },
    {
      "cell_type": "code",
      "source": [
        "#validation_data = test_datagen.flow_from_directory('/content/drive/MyDrive/Colab Notebooks/TB_Dataset12/val',\n",
        "                        #                    target_size = (224, 224),\n",
        "                            #                batch_size = 32,\n",
        "                            #                class_mode = 'categorical')"
      ],
      "metadata": {
        "id": "eZ1s8gHXWju9"
      },
      "execution_count": 27,
      "outputs": []
    },
    {
      "cell_type": "code",
      "source": [
        "# This code snipet is used to detect undefined Image\n",
        "import os\n",
        "from PIL import Image\n",
        "folder_path = '/content/drive/MyDrive/TB_Dataset/train'\n",
        "extensions = []\n",
        "for fldr in os.listdir(folder_path):\n",
        "    sub_folder_path = os.path.join(folder_path, fldr)\n",
        "    for filee in os.listdir(sub_folder_path):\n",
        "        file_path = os.path.join(sub_folder_path, filee)\n",
        "        print('** Path: {}  **'.format(file_path), end=\"\\r\", flush=True)\n",
        "        im = Image.open(file_path)\n",
        "        rgb_im = im.convert('RGB')\n",
        "        if filee.split('.')[1] not in extensions:\n",
        "            extensions.append(filee.split('.')[1])\n",
        "    "
      ],
      "metadata": {
        "colab": {
          "base_uri": "https://localhost:8080/"
        },
        "id": "bKJG6Jnpg6gX",
        "outputId": "188e216f-41ce-4921-8897-37fcd4e84384"
      },
      "execution_count": 28,
      "outputs": [
        {
          "output_type": "stream",
          "name": "stdout",
          "text": []
        }
      ]
    },
    {
      "cell_type": "code",
      "source": [
        "# fit the model\n",
        "\n",
        "r = model.fit(\n",
        "    training_set,\n",
        "    validation_data = test_set,\n",
        "    epochs=10,\n",
        "    steps_per_epoch=len(training_set),\n",
        "    validation_steps=len(test_set)\n",
        ")"
      ],
      "metadata": {
        "colab": {
          "base_uri": "https://localhost:8080/"
        },
        "id": "-9WgoMwc6scQ",
        "outputId": "46e5c050-fc57-49fe-90ce-ebf197af6521"
      },
      "execution_count": 31,
      "outputs": [
        {
          "output_type": "stream",
          "name": "stdout",
          "text": [
            "Epoch 1/10\n",
            "92/92 [==============================] - 194s 2s/step - loss: 0.0956 - accuracy: 0.9663 - val_loss: 0.0472 - val_accuracy: 0.9810\n",
            "Epoch 2/10\n",
            "92/92 [==============================] - 65s 709ms/step - loss: 0.0717 - accuracy: 0.9785 - val_loss: 0.0338 - val_accuracy: 0.9810\n",
            "Epoch 3/10\n",
            "92/92 [==============================] - 65s 709ms/step - loss: 0.0589 - accuracy: 0.9789 - val_loss: 0.0338 - val_accuracy: 0.9857\n",
            "Epoch 4/10\n",
            "92/92 [==============================] - 65s 710ms/step - loss: 0.0530 - accuracy: 0.9840 - val_loss: 0.0246 - val_accuracy: 0.9881\n",
            "Epoch 5/10\n",
            "92/92 [==============================] - 65s 711ms/step - loss: 0.0553 - accuracy: 0.9820 - val_loss: 0.0476 - val_accuracy: 0.9810\n",
            "Epoch 6/10\n",
            "92/92 [==============================] - 66s 713ms/step - loss: 0.0457 - accuracy: 0.9850 - val_loss: 0.0478 - val_accuracy: 0.9810\n",
            "Epoch 7/10\n",
            "92/92 [==============================] - 66s 712ms/step - loss: 0.0353 - accuracy: 0.9905 - val_loss: 0.0141 - val_accuracy: 0.9952\n",
            "Epoch 8/10\n",
            "92/92 [==============================] - 70s 765ms/step - loss: 0.0347 - accuracy: 0.9864 - val_loss: 0.0508 - val_accuracy: 0.9786\n",
            "Epoch 9/10\n",
            "92/92 [==============================] - 65s 705ms/step - loss: 0.0383 - accuracy: 0.9860 - val_loss: 0.0235 - val_accuracy: 0.9881\n",
            "Epoch 10/10\n",
            "92/92 [==============================] - 65s 703ms/step - loss: 0.0377 - accuracy: 0.9850 - val_loss: 0.0106 - val_accuracy: 0.9952\n"
          ]
        }
      ]
    },
    {
      "cell_type": "code",
      "source": [
        "# loss\n",
        "plt.plot(r.history['loss'], label='train loss')\n",
        "plt.plot(r.history['val_loss'], label='val loss')\n",
        "plt.legend()\n",
        "plt.show()\n",
        "plt.savefig('LossVal_loss')"
      ],
      "metadata": {
        "id": "8sxFQLyL6sgs",
        "colab": {
          "base_uri": "https://localhost:8080/",
          "height": 447
        },
        "outputId": "cb2c570e-06c6-408f-f8e0-22d23dc59029"
      },
      "execution_count": 32,
      "outputs": [
        {
          "output_type": "display_data",
          "data": {
            "text/plain": [
              "<Figure size 640x480 with 1 Axes>"
            ],
            "image/png": "[encoded data removed]"
          },
          "metadata": {}
        },
        {
          "output_type": "display_data",
          "data": {
            "text/plain": [
              "<Figure size 640x480 with 0 Axes>"
            ]
          },
          "metadata": {}
        }
      ]
    },
    {
      "cell_type": "code",
      "source": [
        "# accuracies\n",
        "plt.plot(r.history['accuracy'], label='train acc')\n",
        "plt.plot(r.history['val_accuracy'], label='val acc')\n",
        "plt.legend()\n",
        "plt.show()\n",
        "plt.savefig('AccVal_acc')"
      ],
      "metadata": {
        "id": "Oyrq9_VF6skM",
        "colab": {
          "base_uri": "https://localhost:8080/",
          "height": 447
        },
        "outputId": "434e788f-26da-4f9d-fa19-c4b316f02faf"
      },
      "execution_count": 33,
      "outputs": [
        {
          "output_type": "display_data",
          "data": {
            "text/plain": [
              "<Figure size 640x480 with 1 Axes>"
            ],
            "image/png": "[encoded data removed]"
          },
          "metadata": {}
        },
        {
          "output_type": "display_data",
          "data": {
            "text/plain": [
              "<Figure size 640x480 with 0 Axes>"
            ]
          },
          "metadata": {}
        }
      ]
    },
    {
      "cell_type": "code",
      "source": [
        "import tensorflow as tf\n",
        "\n",
        "from keras.models import load_model\n",
        "\n",
        "model.save('/content/drive/MyDrive/Trained_Models/tuerculosis.h5')"
      ],
      "metadata": {
        "id": "pku0LBCS7_bw"
      },
      "execution_count": 41,
      "outputs": []
    },
    {
      "cell_type": "code",
      "source": [
        "y_pred=model.predict(test_set)\n"
      ],
      "metadata": {
        "colab": {
          "base_uri": "https://localhost:8080/"
        },
        "id": "bDZxTska1x-0",
        "outputId": "80a4fcc4-acd5-4c1e-ad19-ba6b17c6d3c6"
      },
      "execution_count": 42,
      "outputs": [
        {
          "output_type": "stream",
          "name": "stdout",
          "text": [
            "14/14 [==============================] - 5s 338ms/step\n"
          ]
        }
      ]
    },
    {
      "cell_type": "code",
      "source": [
        "y_pred"
      ],
      "metadata": {
        "colab": {
          "base_uri": "https://localhost:8080/"
        },
        "id": "cAXsYXGe17JM",
        "outputId": "676a0100-86d1-40f9-dab8-5f57cd9f6945"
      },
      "execution_count": 43,
      "outputs": [
        {
          "output_type": "execute_result",
          "data": {
            "text/plain": [
              "array([[9.99996305e-01, 3.70797443e-06],\n",
              "       [9.99251902e-01, 7.48070073e-04],\n",
              "       [9.99981880e-01, 1.81342111e-05],\n",
              "       [9.99998927e-01, 1.12971361e-06],\n",
              "       [3.39826336e-04, 9.99660134e-01],\n",
              "       [9.99993443e-01, 6.53702637e-06],\n",
              "       [9.99959946e-01, 4.00875033e-05],\n",
              "       [9.99869943e-01, 1.30033062e-04],\n",
              "       [9.99830365e-01, 1.69595805e-04],\n",
              "       [7.45030206e-07, 9.99999285e-01],\n",
              "       [9.86267090e-01, 1.37328822e-02],\n",
              "       [8.53441306e-04, 9.99146581e-01],\n",
              "       [9.99929905e-01, 7.01160679e-05],\n",
              "       [9.99620914e-01, 3.79050907e-04],\n",
              "       [9.99915123e-01, 8.48352938e-05],\n",
              "       [9.99913454e-01, 8.65631810e-05],\n",
              "       [9.99995828e-01, 4.21496770e-06],\n",
              "       [9.27588224e-01, 7.24118054e-02],\n",
              "       [1.53204622e-02, 9.84679520e-01],\n",
              "       [9.99986529e-01, 1.34459924e-05],\n",
              "       [9.99999166e-01, 7.82272480e-07],\n",
              "       [9.99971390e-01, 2.86684080e-05],\n",
              "       [9.99993443e-01, 6.60247406e-06],\n",
              "       [9.99992728e-01, 7.32768285e-06],\n",
              "       [9.99978304e-01, 2.17103970e-05],\n",
              "       [9.99992132e-01, 7.92245100e-06],\n",
              "       [9.99995112e-01, 4.93850121e-06],\n",
              "       [9.99953628e-01, 4.63203323e-05],\n",
              "       [9.99997020e-01, 2.95727500e-06],\n",
              "       [9.98936355e-01, 1.06368458e-03],\n",
              "       [9.98966455e-01, 1.03354477e-03],\n",
              "       [1.36643934e-07, 9.99999881e-01],\n",
              "       [9.99994278e-01, 5.68655514e-06],\n",
              "       [9.94990051e-01, 5.00999438e-03],\n",
              "       [9.13409770e-01, 8.65902230e-02],\n",
              "       [9.99973655e-01, 2.63327693e-05],\n",
              "       [9.99997377e-01, 2.62360709e-06],\n",
              "       [9.99909997e-01, 9.00197410e-05],\n",
              "       [1.03087977e-01, 8.96911979e-01],\n",
              "       [9.79472637e-01, 2.05274038e-02],\n",
              "       [9.99404311e-01, 5.95734920e-04],\n",
              "       [9.98219907e-01, 1.78006757e-03],\n",
              "       [1.18117733e-03, 9.98818815e-01],\n",
              "       [9.98823941e-01, 1.17608707e-03],\n",
              "       [9.99999642e-01, 4.03449889e-07],\n",
              "       [9.99989033e-01, 1.09419834e-05],\n",
              "       [9.92464542e-01, 7.53543153e-03],\n",
              "       [9.99999762e-01, 2.74424593e-07],\n",
              "       [3.48657067e-03, 9.96513426e-01],\n",
              "       [9.86238658e-01, 1.37612754e-02],\n",
              "       [9.99767125e-01, 2.32854611e-04],\n",
              "       [9.99583662e-01, 4.16333118e-04],\n",
              "       [2.12483078e-01, 7.87516892e-01],\n",
              "       [9.86846209e-01, 1.31538706e-02],\n",
              "       [4.12354944e-03, 9.95876431e-01],\n",
              "       [9.99904275e-01, 9.57018565e-05],\n",
              "       [9.98671889e-01, 1.32815831e-03],\n",
              "       [9.99931335e-01, 6.86698259e-05],\n",
              "       [9.99411941e-01, 5.88062336e-04],\n",
              "       [9.91771281e-01, 8.22866149e-03],\n",
              "       [9.99818504e-01, 1.81561045e-04],\n",
              "       [9.99872208e-01, 1.27733714e-04],\n",
              "       [9.99573886e-01, 4.26081504e-04],\n",
              "       [9.98695910e-01, 1.30413647e-03],\n",
              "       [9.38758075e-01, 6.12419434e-02],\n",
              "       [9.99602616e-01, 3.97390773e-04],\n",
              "       [9.99995232e-01, 4.71078283e-06],\n",
              "       [9.68011856e-01, 3.19880843e-02],\n",
              "       [9.99997377e-01, 2.60105594e-06],\n",
              "       [1.80066321e-02, 9.81993437e-01],\n",
              "       [9.99930263e-01, 6.97655050e-05],\n",
              "       [6.74749792e-01, 3.25250179e-01],\n",
              "       [9.99613345e-01, 3.86691245e-04],\n",
              "       [9.99271572e-01, 7.28376152e-04],\n",
              "       [7.62162847e-04, 9.99237895e-01],\n",
              "       [9.92563426e-01, 7.43657956e-03],\n",
              "       [9.98809099e-01, 1.19089650e-03],\n",
              "       [9.97876048e-01, 2.12393701e-03],\n",
              "       [9.99445379e-01, 5.54563885e-04],\n",
              "       [1.00942804e-02, 9.89905775e-01],\n",
              "       [9.99805510e-01, 1.94510794e-04],\n",
              "       [9.99990344e-01, 9.64695482e-06],\n",
              "       [1.18363891e-02, 9.88163650e-01],\n",
              "       [7.93047249e-03, 9.92069602e-01],\n",
              "       [9.99998569e-01, 1.42299450e-06],\n",
              "       [6.20288891e-04, 9.99379635e-01],\n",
              "       [9.96471882e-01, 3.52814957e-03],\n",
              "       [9.99764264e-01, 2.35762374e-04],\n",
              "       [9.99997258e-01, 2.78544644e-06],\n",
              "       [9.99998808e-01, 1.17669742e-06],\n",
              "       [9.99990940e-01, 9.02745978e-06],\n",
              "       [9.99930024e-01, 6.99775264e-05],\n",
              "       [9.99999404e-01, 6.43775820e-07],\n",
              "       [9.91015136e-01, 8.98492057e-03],\n",
              "       [9.99985814e-01, 1.41342034e-05],\n",
              "       [9.99920964e-01, 7.90338891e-05],\n",
              "       [9.99991536e-01, 8.42954159e-06],\n",
              "       [9.99980330e-01, 1.96497713e-05],\n",
              "       [9.99998689e-01, 1.25194765e-06],\n",
              "       [5.12778643e-04, 9.99487162e-01],\n",
              "       [9.99144673e-01, 8.55288410e-04],\n",
              "       [9.93342817e-01, 6.65719388e-03],\n",
              "       [6.84954742e-08, 9.99999881e-01],\n",
              "       [3.76586686e-05, 9.99962330e-01],\n",
              "       [9.99975443e-01, 2.45658885e-05],\n",
              "       [9.99973297e-01, 2.66529223e-05],\n",
              "       [9.86464262e-01, 1.35357073e-02],\n",
              "       [9.99998212e-01, 1.78174082e-06],\n",
              "       [9.99940753e-01, 5.92589895e-05],\n",
              "       [1.12001849e-02, 9.88799810e-01],\n",
              "       [9.99999166e-01, 8.17141085e-07],\n",
              "       [9.99933839e-01, 6.61122613e-05],\n",
              "       [9.99984503e-01, 1.54719601e-05],\n",
              "       [9.99958515e-01, 4.14479291e-05],\n",
              "       [1.57064951e-05, 9.99984264e-01],\n",
              "       [9.99991655e-01, 8.32834121e-06],\n",
              "       [1.33063749e-03, 9.98669386e-01],\n",
              "       [9.99874353e-01, 1.25631384e-04],\n",
              "       [9.99811232e-01, 1.88777820e-04],\n",
              "       [9.99458015e-01, 5.42020658e-04],\n",
              "       [9.95186388e-01, 4.81358357e-03],\n",
              "       [1.93723417e-06, 9.99998093e-01],\n",
              "       [9.99934196e-01, 6.57659184e-05],\n",
              "       [9.99106228e-01, 8.93768331e-04],\n",
              "       [9.75687027e-01, 2.43129581e-02],\n",
              "       [9.99990702e-01, 9.33096544e-06],\n",
              "       [9.99998212e-01, 1.77336483e-06],\n",
              "       [9.99993324e-01, 6.71545149e-06],\n",
              "       [9.99997854e-01, 2.09602013e-06],\n",
              "       [9.99974847e-01, 2.51683268e-05],\n",
              "       [9.97235477e-01, 2.76456284e-03],\n",
              "       [9.99927282e-01, 7.27712977e-05],\n",
              "       [9.94853795e-01, 5.14628645e-03],\n",
              "       [9.99986768e-01, 1.32126133e-05],\n",
              "       [9.99946117e-01, 5.38824715e-05],\n",
              "       [9.99427319e-01, 5.72654069e-04],\n",
              "       [9.99966025e-01, 3.39184553e-05],\n",
              "       [9.99999881e-01, 1.13661848e-07],\n",
              "       [9.99702990e-01, 2.97000661e-04],\n",
              "       [9.99987602e-01, 1.23649234e-05],\n",
              "       [9.29411411e-01, 7.05885813e-02],\n",
              "       [9.99930501e-01, 6.94626651e-05],\n",
              "       [9.99970078e-01, 2.98643954e-05],\n",
              "       [9.99903917e-01, 9.60811594e-05],\n",
              "       [9.96972919e-01, 3.02705192e-03],\n",
              "       [9.86272216e-01, 1.37277478e-02],\n",
              "       [9.99957800e-01, 4.21440382e-05],\n",
              "       [9.99870062e-01, 1.29896493e-04],\n",
              "       [9.99727666e-01, 2.72356032e-04],\n",
              "       [9.99884129e-01, 1.15869618e-04],\n",
              "       [9.99848247e-01, 1.51702858e-04],\n",
              "       [9.99820411e-01, 1.79585826e-04],\n",
              "       [9.99858737e-01, 1.41275639e-04],\n",
              "       [9.55187976e-01, 4.48120087e-02],\n",
              "       [1.79720880e-03, 9.98202801e-01],\n",
              "       [9.78480220e-01, 2.15197541e-02],\n",
              "       [3.79978010e-04, 9.99619961e-01],\n",
              "       [9.99990940e-01, 9.07855247e-06],\n",
              "       [9.95669842e-01, 4.33014100e-03],\n",
              "       [2.63331691e-03, 9.97366726e-01],\n",
              "       [9.99987245e-01, 1.27617323e-05],\n",
              "       [9.99972820e-01, 2.71505069e-05],\n",
              "       [9.99923825e-01, 7.62258060e-05],\n",
              "       [9.99933004e-01, 6.69789588e-05],\n",
              "       [9.98450518e-01, 1.54945743e-03],\n",
              "       [9.99859691e-01, 1.40264616e-04],\n",
              "       [9.89319384e-01, 1.06806802e-02],\n",
              "       [9.99409676e-01, 5.90352167e-04],\n",
              "       [9.99992728e-01, 7.28164332e-06],\n",
              "       [9.99998808e-01, 1.21828543e-06],\n",
              "       [3.72655806e-04, 9.99627352e-01],\n",
              "       [9.93583024e-01, 6.41701184e-03],\n",
              "       [9.99960780e-01, 3.92575894e-05],\n",
              "       [9.99982357e-01, 1.76999547e-05],\n",
              "       [1.21754980e-04, 9.99878287e-01],\n",
              "       [9.99998927e-01, 1.03189564e-06],\n",
              "       [9.99974489e-01, 2.55056802e-05],\n",
              "       [9.99992967e-01, 7.05470484e-06],\n",
              "       [9.99124348e-01, 8.75708065e-04],\n",
              "       [9.99998212e-01, 1.76790729e-06],\n",
              "       [9.99992132e-01, 7.84947224e-06],\n",
              "       [9.99920964e-01, 7.90352497e-05],\n",
              "       [9.99609172e-01, 3.90806672e-04],\n",
              "       [7.61037171e-08, 9.99999881e-01],\n",
              "       [9.99474227e-01, 5.25845448e-04],\n",
              "       [9.98017073e-01, 1.98289240e-03],\n",
              "       [9.99977469e-01, 2.25051026e-05],\n",
              "       [9.99897003e-01, 1.02983620e-04],\n",
              "       [9.99844670e-01, 1.55281901e-04],\n",
              "       [9.99809444e-01, 1.90542443e-04],\n",
              "       [9.99999762e-01, 2.65969248e-07],\n",
              "       [9.94224727e-01, 5.77525282e-03],\n",
              "       [9.99149799e-01, 8.50197801e-04],\n",
              "       [9.99671698e-01, 3.28287744e-04],\n",
              "       [9.99997616e-01, 2.33422406e-06],\n",
              "       [9.99997377e-01, 2.64851496e-06],\n",
              "       [9.99580443e-01, 4.19516087e-04],\n",
              "       [9.99785364e-01, 2.14631567e-04],\n",
              "       [9.99624252e-01, 3.75740783e-04],\n",
              "       [9.99861121e-01, 1.38871648e-04],\n",
              "       [9.99984980e-01, 1.50393998e-05],\n",
              "       [2.17959514e-05, 9.99978185e-01],\n",
              "       [1.28121721e-03, 9.98718858e-01],\n",
              "       [9.99979019e-01, 2.09277187e-05],\n",
              "       [9.96511638e-01, 3.48842680e-03],\n",
              "       [9.99935985e-01, 6.40375947e-05],\n",
              "       [2.04641279e-02, 9.79535878e-01],\n",
              "       [9.99271095e-01, 7.28888670e-04],\n",
              "       [9.99987125e-01, 1.28308502e-05],\n",
              "       [9.95061576e-01, 4.93840035e-03],\n",
              "       [9.93467510e-01, 6.53245253e-03],\n",
              "       [9.99989152e-01, 1.08721779e-05],\n",
              "       [9.96411860e-01, 3.58818402e-03],\n",
              "       [9.99974012e-01, 2.60321976e-05],\n",
              "       [5.14871120e-01, 4.85128909e-01],\n",
              "       [9.99996781e-01, 3.25080623e-06],\n",
              "       [1.26074927e-04, 9.99873877e-01],\n",
              "       [1.00781478e-03, 9.98992145e-01],\n",
              "       [9.99895930e-01, 1.04066959e-04],\n",
              "       [4.13845381e-04, 9.99586165e-01],\n",
              "       [9.92864966e-01, 7.13500846e-03],\n",
              "       [9.99874353e-01, 1.25658960e-04],\n",
              "       [9.95008111e-01, 4.99183591e-03],\n",
              "       [9.99975562e-01, 2.44376115e-05],\n",
              "       [9.99939680e-01, 6.02625332e-05],\n",
              "       [9.91720319e-01, 8.27963930e-03],\n",
              "       [9.99987841e-01, 1.22119009e-05],\n",
              "       [2.69962894e-03, 9.97300446e-01],\n",
              "       [9.97975409e-01, 2.02456536e-03],\n",
              "       [9.99916792e-01, 8.31420766e-05],\n",
              "       [9.99997735e-01, 2.29564762e-06],\n",
              "       [9.69306052e-01, 3.06939837e-02],\n",
              "       [1.04614161e-01, 8.95385802e-01],\n",
              "       [9.88096476e-01, 1.19035300e-02],\n",
              "       [9.99990940e-01, 9.03883029e-06],\n",
              "       [9.99997139e-01, 2.86865247e-06],\n",
              "       [1.42526068e-03, 9.98574734e-01],\n",
              "       [9.99733627e-01, 2.66341493e-04],\n",
              "       [9.99996901e-01, 3.07696246e-06],\n",
              "       [9.99846458e-01, 1.53515546e-04],\n",
              "       [9.99982119e-01, 1.78924765e-05],\n",
              "       [9.99127209e-01, 8.72819452e-04],\n",
              "       [4.25861663e-06, 9.99995708e-01],\n",
              "       [9.99882817e-01, 1.17112155e-04],\n",
              "       [9.99832869e-01, 1.67150094e-04],\n",
              "       [9.97402608e-01, 2.59734085e-03],\n",
              "       [9.99053776e-01, 9.46249056e-04],\n",
              "       [9.99905586e-01, 9.43774357e-05],\n",
              "       [6.39367281e-05, 9.99936104e-01],\n",
              "       [9.98980701e-01, 1.01922266e-03],\n",
              "       [9.99955177e-01, 4.48533356e-05],\n",
              "       [9.99984741e-01, 1.52663870e-05],\n",
              "       [9.97229755e-01, 2.77023180e-03],\n",
              "       [9.99714553e-01, 2.85379647e-04],\n",
              "       [9.99414682e-01, 5.85344620e-04],\n",
              "       [9.99999762e-01, 2.13283485e-07],\n",
              "       [9.99684930e-01, 3.15140845e-04],\n",
              "       [9.67525184e-01, 3.24747674e-02],\n",
              "       [9.99879599e-01, 1.20341247e-04],\n",
              "       [9.98808622e-01, 1.19139918e-03],\n",
              "       [9.99746263e-01, 2.53680686e-04],\n",
              "       [1.07594204e-07, 9.99999881e-01],\n",
              "       [9.99998808e-01, 1.13633166e-06],\n",
              "       [9.99943256e-01, 5.67348470e-05],\n",
              "       [6.60750025e-04, 9.99339283e-01],\n",
              "       [9.99585569e-01, 4.14432434e-04],\n",
              "       [9.99999762e-01, 2.20903729e-07],\n",
              "       [1.72784403e-01, 8.27215612e-01],\n",
              "       [9.99990940e-01, 9.07419053e-06],\n",
              "       [9.99979615e-01, 2.03426098e-05],\n",
              "       [9.99172866e-01, 8.27154960e-04],\n",
              "       [3.06962352e-06, 9.99996901e-01],\n",
              "       [1.27343684e-02, 9.87265587e-01],\n",
              "       [9.99986053e-01, 1.38957421e-05],\n",
              "       [7.62476861e-01, 2.37523124e-01],\n",
              "       [9.99960184e-01, 3.97734257e-05],\n",
              "       [9.99999166e-01, 8.36143386e-07],\n",
              "       [9.99974489e-01, 2.55629311e-05],\n",
              "       [9.99994159e-01, 5.86508486e-06],\n",
              "       [7.63294247e-06, 9.99992371e-01],\n",
              "       [9.99998212e-01, 1.74941636e-06],\n",
              "       [9.99094367e-01, 9.05597873e-04],\n",
              "       [9.99133050e-01, 8.66963936e-04],\n",
              "       [9.99994278e-01, 5.69489612e-06],\n",
              "       [9.96883690e-01, 3.11626587e-03],\n",
              "       [2.29912251e-01, 7.70087719e-01],\n",
              "       [9.99973059e-01, 2.69386092e-05],\n",
              "       [9.92516100e-01, 7.48388097e-03],\n",
              "       [9.99991298e-01, 8.72725650e-06],\n",
              "       [9.99543190e-01, 4.56819223e-04],\n",
              "       [3.45218484e-03, 9.96547878e-01],\n",
              "       [9.99943733e-01, 5.62593304e-05],\n",
              "       [9.98056471e-01, 1.94346812e-03],\n",
              "       [1.61633943e-04, 9.99838352e-01],\n",
              "       [9.99924064e-01, 7.59305331e-05],\n",
              "       [9.99987245e-01, 1.27735675e-05],\n",
              "       [9.99992490e-01, 7.52147389e-06],\n",
              "       [9.99919295e-01, 8.07180259e-05],\n",
              "       [9.94620442e-01, 5.37959579e-03],\n",
              "       [5.45769944e-05, 9.99945402e-01],\n",
              "       [9.99579370e-01, 4.20585420e-04],\n",
              "       [4.83991891e-01, 5.16008079e-01],\n",
              "       [9.99958634e-01, 4.13303496e-05],\n",
              "       [9.99999404e-01, 6.29823660e-07],\n",
              "       [9.83296096e-01, 1.67039447e-02],\n",
              "       [9.99995470e-01, 4.56686303e-06],\n",
              "       [9.99992251e-01, 7.72691601e-06],\n",
              "       [9.99999404e-01, 5.66483322e-07],\n",
              "       [9.99996424e-01, 3.60755598e-06],\n",
              "       [9.99979258e-01, 2.07839821e-05],\n",
              "       [9.94485438e-01, 5.51456446e-03],\n",
              "       [9.99983668e-01, 1.63111035e-05],\n",
              "       [9.99807656e-01, 1.92311825e-04],\n",
              "       [9.99959111e-01, 4.08897795e-05],\n",
              "       [9.99641180e-01, 3.58798861e-04],\n",
              "       [1.41841906e-06, 9.99998569e-01],\n",
              "       [9.99903679e-01, 9.63417187e-05],\n",
              "       [9.99656916e-01, 3.43027466e-04],\n",
              "       [9.99882579e-01, 1.17425931e-04],\n",
              "       [9.99980927e-01, 1.90776518e-05],\n",
              "       [9.99987960e-01, 1.20660843e-05],\n",
              "       [9.99450982e-01, 5.49022167e-04],\n",
              "       [9.99376714e-01, 6.23325643e-04],\n",
              "       [9.99483466e-01, 5.16483677e-04],\n",
              "       [9.98955250e-01, 1.04477408e-03],\n",
              "       [4.66123674e-06, 9.99995351e-01],\n",
              "       [9.88888979e-01, 1.11109372e-02],\n",
              "       [9.98213768e-01, 1.78630010e-03],\n",
              "       [9.99989152e-01, 1.08194163e-05],\n",
              "       [4.62753496e-06, 9.99995351e-01],\n",
              "       [8.85521877e-06, 9.99991179e-01],\n",
              "       [9.97805536e-01, 2.19444372e-03],\n",
              "       [2.63172609e-07, 9.99999762e-01],\n",
              "       [9.99999285e-01, 7.60160844e-07],\n",
              "       [8.97260129e-01, 1.02739856e-01],\n",
              "       [9.99998093e-01, 1.96285350e-06],\n",
              "       [9.98225033e-01, 1.77500129e-03],\n",
              "       [9.99998093e-01, 1.95665962e-06],\n",
              "       [1.83322874e-04, 9.99816716e-01],\n",
              "       [9.99999046e-01, 9.68306381e-07],\n",
              "       [8.85217071e-01, 1.14782922e-01],\n",
              "       [9.99828577e-01, 1.71335298e-04],\n",
              "       [9.83299792e-01, 1.67002734e-02],\n",
              "       [9.86952782e-01, 1.30472900e-02],\n",
              "       [8.25550815e-05, 9.99917388e-01],\n",
              "       [9.99895692e-01, 1.04342696e-04],\n",
              "       [9.99859810e-01, 1.40184115e-04],\n",
              "       [8.76063760e-03, 9.91239369e-01],\n",
              "       [9.99556839e-01, 4.43158904e-04],\n",
              "       [9.99978423e-01, 2.15327400e-05],\n",
              "       [5.75644663e-04, 9.99424338e-01],\n",
              "       [9.99997616e-01, 2.35691914e-06],\n",
              "       [9.99986053e-01, 1.39739086e-05],\n",
              "       [9.98919487e-01, 1.08047726e-03],\n",
              "       [9.91375744e-01, 8.62426776e-03],\n",
              "       [9.99998212e-01, 1.82720748e-06],\n",
              "       [9.99994874e-01, 5.13317582e-06],\n",
              "       [9.94316280e-01, 5.68366935e-03],\n",
              "       [1.45152071e-03, 9.98548448e-01],\n",
              "       [7.91814527e-05, 9.99920845e-01],\n",
              "       [3.95404328e-07, 9.99999642e-01],\n",
              "       [9.99614716e-01, 3.85290419e-04],\n",
              "       [5.66941046e-04, 9.99432981e-01],\n",
              "       [9.99992013e-01, 8.04544652e-06],\n",
              "       [9.99172866e-01, 8.27051583e-04],\n",
              "       [9.99976754e-01, 2.32544662e-05],\n",
              "       [9.96830523e-01, 3.16941785e-03],\n",
              "       [9.99478877e-01, 5.21187263e-04],\n",
              "       [9.36450362e-01, 6.35496452e-02],\n",
              "       [9.99987841e-01, 1.21058256e-05],\n",
              "       [9.99916792e-01, 8.31847428e-05],\n",
              "       [9.93801653e-01, 6.19841041e-03],\n",
              "       [9.99999523e-01, 5.00694682e-07],\n",
              "       [9.99934912e-01, 6.50981019e-05],\n",
              "       [9.99999046e-01, 9.93907406e-07],\n",
              "       [9.99923944e-01, 7.60294279e-05],\n",
              "       [9.98683512e-01, 1.31643540e-03],\n",
              "       [9.99999881e-01, 1.48325299e-07],\n",
              "       [9.99881744e-01, 1.18199518e-04],\n",
              "       [9.99775827e-01, 2.24152915e-04],\n",
              "       [9.97688413e-01, 2.31160456e-03],\n",
              "       [9.99744594e-01, 2.55410094e-04],\n",
              "       [9.99979019e-01, 2.10061025e-05],\n",
              "       [9.99992132e-01, 7.84004624e-06],\n",
              "       [3.01819159e-06, 9.99997020e-01],\n",
              "       [9.99971390e-01, 2.85661445e-05],\n",
              "       [2.47924170e-03, 9.97520745e-01],\n",
              "       [9.99990463e-01, 9.54153256e-06],\n",
              "       [9.99791563e-01, 2.08442783e-04],\n",
              "       [9.98106480e-01, 1.89356285e-03],\n",
              "       [9.97952044e-01, 2.04798952e-03],\n",
              "       [9.99780238e-01, 2.19740818e-04],\n",
              "       [4.46643971e-04, 9.99553382e-01],\n",
              "       [9.99850631e-01, 1.49308136e-04],\n",
              "       [9.92656112e-01, 7.34390737e-03],\n",
              "       [9.99858499e-01, 1.41484721e-04],\n",
              "       [9.99996185e-01, 3.76086405e-06],\n",
              "       [9.99999642e-01, 3.73913082e-07],\n",
              "       [9.97803152e-01, 2.19686935e-03],\n",
              "       [9.99965549e-01, 3.44058244e-05],\n",
              "       [9.99999285e-01, 6.79175912e-07],\n",
              "       [9.99924064e-01, 7.59156173e-05],\n",
              "       [9.99868751e-01, 1.31269670e-04],\n",
              "       [9.89955187e-01, 1.00447657e-02],\n",
              "       [9.73708510e-01, 2.62914281e-02],\n",
              "       [9.99996543e-01, 3.42513636e-06],\n",
              "       [9.99968410e-01, 3.16201658e-05],\n",
              "       [5.10540046e-03, 9.94894624e-01],\n",
              "       [5.29723591e-04, 9.99470294e-01],\n",
              "       [9.99988675e-01, 1.13546394e-05],\n",
              "       [9.99475658e-01, 5.24374424e-04],\n",
              "       [9.99980688e-01, 1.93569831e-05],\n",
              "       [9.99530435e-01, 4.69535444e-04],\n",
              "       [9.99860525e-01, 1.39417345e-04],\n",
              "       [3.35100219e-02, 9.66489971e-01],\n",
              "       [9.99949813e-01, 5.02380644e-05],\n",
              "       [9.96744037e-01, 3.25589208e-03],\n",
              "       [9.99861836e-01, 1.38185947e-04],\n",
              "       [5.73325553e-04, 9.99426723e-01],\n",
              "       [9.97471988e-01, 2.52798921e-03],\n",
              "       [9.99998212e-01, 1.73364674e-06]], dtype=float32)"
            ]
          },
          "metadata": {},
          "execution_count": 43
        }
      ]
    },
    {
      "cell_type": "code",
      "source": [
        "import numpy as np\n",
        "y_pred = np.argmax(y_pred,axis=0)"
      ],
      "metadata": {
        "id": "R-7yPkfi2CRy"
      },
      "execution_count": 44,
      "outputs": []
    },
    {
      "cell_type": "code",
      "source": [
        "y_pred"
      ],
      "metadata": {
        "colab": {
          "base_uri": "https://localhost:8080/"
        },
        "id": "4ZZWn9TO2wzI",
        "outputId": "4204a31e-9d91-43c7-be2b-b4cf261a4313"
      },
      "execution_count": 45,
      "outputs": [
        {
          "output_type": "execute_result",
          "data": {
            "text/plain": [
              "array([137,  31])"
            ]
          },
          "metadata": {},
          "execution_count": 45
        }
      ]
    },
    {
      "cell_type": "code",
      "source": [
        "from tensorflow.keras.models import load_model\n",
        "from tensorflow.keras.preprocessing import image\n",
        "\n"
      ],
      "metadata": {
        "id": "D4YKdfi-3Fbm"
      },
      "execution_count": 46,
      "outputs": []
    },
    {
      "cell_type": "code",
      "source": [
        "model=load_model('/content/drive/MyDrive/Trained_Models/tuerculosis.h5')"
      ],
      "metadata": {
        "id": "0XGr4-rP4qfM"
      },
      "execution_count": 47,
      "outputs": []
    },
    {
      "cell_type": "code",
      "source": [
        "# To Test the Model accuracy we took one Normal person X-ray image\n",
        "# Let's see what will be the result\n",
        "\n",
        "img=image.load_img('/content/drive/MyDrive/TB_Dataset/test/Normal/Normal-100.png',target_size=(224,224))"
      ],
      "metadata": {
        "id": "du8ijoB137Ng"
      },
      "execution_count": 60,
      "outputs": []
    },
    {
      "cell_type": "code",
      "source": [
        "x=image.img_to_array(img)\n",
        "x"
      ],
      "metadata": {
        "colab": {
          "base_uri": "https://localhost:8080/"
        },
        "id": "FLBSDhrV4RWI",
        "outputId": "488bd0af-d352-4bcc-85fa-c12976665e57"
      },
      "execution_count": 49,
      "outputs": [
        {
          "output_type": "execute_result",
          "data": {
            "text/plain": [
              "array([[[ 2.,  2.,  2.],\n",
              "        [ 2.,  2.,  2.],\n",
              "        [ 2.,  2.,  2.],\n",
              "        ...,\n",
              "        [10., 10., 10.],\n",
              "        [10., 10., 10.],\n",
              "        [ 9.,  9.,  9.]],\n",
              "\n",
              "       [[ 2.,  2.,  2.],\n",
              "        [ 2.,  2.,  2.],\n",
              "        [ 2.,  2.,  2.],\n",
              "        ...,\n",
              "        [ 9.,  9.,  9.],\n",
              "        [ 9.,  9.,  9.],\n",
              "        [10., 10., 10.]],\n",
              "\n",
              "       [[ 3.,  3.,  3.],\n",
              "        [ 3.,  3.,  3.],\n",
              "        [ 3.,  3.,  3.],\n",
              "        ...,\n",
              "        [ 9.,  9.,  9.],\n",
              "        [ 9.,  9.,  9.],\n",
              "        [ 8.,  8.,  8.]],\n",
              "\n",
              "       ...,\n",
              "\n",
              "       [[90., 90., 90.],\n",
              "        [90., 90., 90.],\n",
              "        [89., 89., 89.],\n",
              "        ...,\n",
              "        [33., 33., 33.],\n",
              "        [58., 58., 58.],\n",
              "        [39., 39., 39.]],\n",
              "\n",
              "       [[92., 92., 92.],\n",
              "        [87., 87., 87.],\n",
              "        [88., 88., 88.],\n",
              "        ...,\n",
              "        [32., 32., 32.],\n",
              "        [58., 58., 58.],\n",
              "        [38., 38., 38.]],\n",
              "\n",
              "       [[91., 91., 91.],\n",
              "        [87., 87., 87.],\n",
              "        [90., 90., 90.],\n",
              "        ...,\n",
              "        [32., 32., 32.],\n",
              "        [54., 54., 54.],\n",
              "        [36., 36., 36.]]], dtype=float32)"
            ]
          },
          "metadata": {},
          "execution_count": 49
        }
      ]
    },
    {
      "cell_type": "code",
      "source": [
        "x.shape"
      ],
      "metadata": {
        "colab": {
          "base_uri": "https://localhost:8080/"
        },
        "id": "BKYqemKE4ig0",
        "outputId": "08808eca-be40-4c68-c11f-8e8f9f24d24f"
      },
      "execution_count": 51,
      "outputs": [
        {
          "output_type": "execute_result",
          "data": {
            "text/plain": [
              "(224, 224, 3)"
            ]
          },
          "metadata": {},
          "execution_count": 51
        }
      ]
    },
    {
      "cell_type": "code",
      "source": [
        "x=x/255"
      ],
      "metadata": {
        "id": "ZBYiUHH8LNcX"
      },
      "execution_count": 52,
      "outputs": []
    },
    {
      "cell_type": "code",
      "source": [
        "x=np.expand_dims(x, axis=0)\n",
        "img_data=preprocess_input(x)\n",
        "img_data.shape"
      ],
      "metadata": {
        "colab": {
          "base_uri": "https://localhost:8080/"
        },
        "id": "k7gqvqTdLNuF",
        "outputId": "6e9031d2-933e-4b1c-9ce9-71063b77fccf"
      },
      "execution_count": 53,
      "outputs": [
        {
          "output_type": "execute_result",
          "data": {
            "text/plain": [
              "(1, 224, 224, 3)"
            ]
          },
          "metadata": {},
          "execution_count": 53
        }
      ]
    },
    {
      "cell_type": "code",
      "source": [
        "model.predict(img_data)"
      ],
      "metadata": {
        "colab": {
          "base_uri": "https://localhost:8080/"
        },
        "id": "Nwo9C8CVLN9R",
        "outputId": "7d9f29b8-5d03-40fd-e92a-6b20276dac0f"
      },
      "execution_count": 54,
      "outputs": [
        {
          "output_type": "stream",
          "name": "stdout",
          "text": [
            "1/1 [==============================] - 1s 712ms/step\n"
          ]
        },
        {
          "output_type": "execute_result",
          "data": {
            "text/plain": [
              "array([[2.4618257e-05, 9.9997532e-01]], dtype=float32)"
            ]
          },
          "metadata": {},
          "execution_count": 54
        }
      ]
    },
    {
      "cell_type": "code",
      "source": [
        "a=np.argmax(model.predict(img_data), axis=1)"
      ],
      "metadata": {
        "colab": {
          "base_uri": "https://localhost:8080/"
        },
        "id": "Y9Y_27mzL59V",
        "outputId": "24aadc3f-895b-4d9d-ce11-292e81735faa"
      },
      "execution_count": 58,
      "outputs": [
        {
          "output_type": "stream",
          "name": "stdout",
          "text": [
            "1/1 [==============================] - 0s 25ms/step\n"
          ]
        }
      ]
    },
    {
      "cell_type": "code",
      "source": [
        "if(a==1):\n",
        "  print(\"Normal\")\n",
        "else:\n",
        "  print(\"Tuerculosis\")\n"
      ],
      "metadata": {
        "colab": {
          "base_uri": "https://localhost:8080/"
        },
        "id": "BLcmLxjVL6Mg",
        "outputId": "d8150563-f0cf-4d4e-ab5f-b5d42ac0a66d"
      },
      "execution_count": 61,
      "outputs": [
        {
          "output_type": "stream",
          "name": "stdout",
          "text": [
            "Normal\n"
          ]
        }
      ]
    }
  ]
}